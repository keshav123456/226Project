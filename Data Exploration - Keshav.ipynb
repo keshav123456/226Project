{
 "cells": [
  {
   "cell_type": "code",
   "execution_count": null,
   "id": "9eb5a62d-0d71-491f-8ee8-b07a6e90d4e3",
   "metadata": {},
   "outputs": [],
   "source": []
  }
 ],
 "metadata": {
  "kernelspec": {
   "display_name": "R",
   "language": "R",
   "name": "ir"
  },
  "language_info": {
   "codemirror_mode": "r",
   "file_extension": ".r",
   "mimetype": "text/x-r-source",
   "name": "R",
   "pygments_lexer": "r",
   "version": "4.4.1"
  }
 },
 "nbformat": 4,
 "nbformat_minor": 5
}
