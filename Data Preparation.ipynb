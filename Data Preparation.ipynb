{
 "cells": [
  {
   "cell_type": "code",
   "execution_count": null,
   "id": "9c4e055d-d337-46ed-911b-4caaeb865a6f",
   "metadata": {},
   "outputs": [],
   "source": [
    "install.packages('dplyr')"
   ]
  },
  {
   "cell_type": "code",
   "execution_count": 2,
   "id": "ad68d549-c4e5-474f-8e52-b740731fa9fc",
   "metadata": {},
   "outputs": [],
   "source": [
    "# Load data and install packages\n",
    "library(dplyr)\n",
    "df <- read.csv(\"../data.csv\")"
   ]
  },
  {
   "cell_type": "code",
   "execution_count": 9,
   "id": "db6c89e7-2afd-4c06-a82f-0419f03876b9",
   "metadata": {
    "scrolled": true
   },
   "outputs": [
    {
     "data": {
      "text/html": [
       "<style>\n",
       ".dl-inline {width: auto; margin:0; padding: 0}\n",
       ".dl-inline>dt, .dl-inline>dd {float: none; width: auto; display: inline-block}\n",
       ".dl-inline>dt::after {content: \":\\0020\"; padding-right: .5ex}\n",
       ".dl-inline>dt:not(:first-of-type) {padding-left: .5ex}\n",
       "</style><dl class=dl-inline><dt>age</dt><dd>0</dd><dt>gender</dt><dd>0</dd><dt>transgender</dt><dd>0</dd><dt>race/ethnicity</dt><dd>0</dd><dt>marital status</dt><dd>0</dd><dt>chronic risk factor: asthma, diabetes, hbp</dt><dd>0</dd><dt>2.5 hrs physical activity in past week</dt><dd>0</dd><dt># of times drank sweet fruit drinks in past month</dt><dd>0</dd><dt># times ate fruit in past month</dt><dd>0</dd><dt># of times ate vegetables in past month</dt><dd>0</dd><dt>tobacco use in past 30 days</dt><dd>0</dd><dt># of cigarettes per day</dt><dd>45</dd><dt># of days binge drinking in past 30 days</dt><dd>0</dd><dt>bmi</dt><dd>0</dd><dt>used heroin, methamphetamine or Rx drugs not as directed</dt><dd>0</dd><dt>serious psychological distress, kessler score</dt><dd>3</dd><dt>disability status</dt><dd>0</dd><dt>currently pregnant</dt><dd>0</dd><dt>covered by medicare</dt><dd>0</dd><dt>covered by medi-cal</dt><dd>0</dd><dt>currently insured</dt><dd>0</dd><dt>type of current health insurance, under 65</dt><dd>0</dd><dt>type of current health insurance, over 65</dt><dd>0</dd><dt>zipcode type: rural, urban, suburban, mixed</dt><dd>0</dd><dt># of times saw a doctor in past year</dt><dd>0</dd><dt>months covered by health insurance in past year</dt><dd>0</dd><dt>poverty level as times of 100% fpl</dt><dd>0</dd></dl>\n"
      ],
      "text/latex": [
       "\\begin{description*}\n",
       "\\item[age] 0\n",
       "\\item[gender] 0\n",
       "\\item[transgender] 0\n",
       "\\item[race/ethnicity] 0\n",
       "\\item[marital status] 0\n",
       "\\item[chronic risk factor: asthma, diabetes, hbp] 0\n",
       "\\item[2.5 hrs physical activity in past week] 0\n",
       "\\item[\\textbackslash{}\\# of times drank sweet fruit drinks in past month] 0\n",
       "\\item[\\textbackslash{}\\# times ate fruit in past month] 0\n",
       "\\item[\\textbackslash{}\\# of times ate vegetables in past month] 0\n",
       "\\item[tobacco use in past 30 days] 0\n",
       "\\item[\\textbackslash{}\\# of cigarettes per day] 45\n",
       "\\item[\\textbackslash{}\\# of days binge drinking in past 30 days] 0\n",
       "\\item[bmi] 0\n",
       "\\item[used heroin, methamphetamine or Rx drugs not as directed] 0\n",
       "\\item[serious psychological distress, kessler score] 3\n",
       "\\item[disability status] 0\n",
       "\\item[currently pregnant] 0\n",
       "\\item[covered by medicare] 0\n",
       "\\item[covered by medi-cal] 0\n",
       "\\item[currently insured] 0\n",
       "\\item[type of current health insurance, under 65] 0\n",
       "\\item[type of current health insurance, over 65] 0\n",
       "\\item[zipcode type: rural, urban, suburban, mixed] 0\n",
       "\\item[\\textbackslash{}\\# of times saw a doctor in past year] 0\n",
       "\\item[months covered by health insurance in past year] 0\n",
       "\\item[poverty level as times of 100\\textbackslash{}\\% fpl] 0\n",
       "\\end{description*}\n"
      ],
      "text/markdown": [
       "age\n",
       ":   0gender\n",
       ":   0transgender\n",
       ":   0race/ethnicity\n",
       ":   0marital status\n",
       ":   0chronic risk factor: asthma, diabetes, hbp\n",
       ":   02.5 hrs physical activity in past week\n",
       ":   0# of times drank sweet fruit drinks in past month\n",
       ":   0# times ate fruit in past month\n",
       ":   0# of times ate vegetables in past month\n",
       ":   0tobacco use in past 30 days\n",
       ":   0# of cigarettes per day\n",
       ":   45# of days binge drinking in past 30 days\n",
       ":   0bmi\n",
       ":   0used heroin, methamphetamine or Rx drugs not as directed\n",
       ":   0serious psychological distress, kessler score\n",
       ":   3disability status\n",
       ":   0currently pregnant\n",
       ":   0covered by medicare\n",
       ":   0covered by medi-cal\n",
       ":   0currently insured\n",
       ":   0type of current health insurance, under 65\n",
       ":   0type of current health insurance, over 65\n",
       ":   0zipcode type: rural, urban, suburban, mixed\n",
       ":   0# of times saw a doctor in past year\n",
       ":   0months covered by health insurance in past year\n",
       ":   0poverty level as times of 100% fpl\n",
       ":   0\n",
       "\n"
      ],
      "text/plain": [
       "                                                     age \n",
       "                                                       0 \n",
       "                                                  gender \n",
       "                                                       0 \n",
       "                                             transgender \n",
       "                                                       0 \n",
       "                                          race/ethnicity \n",
       "                                                       0 \n",
       "                                          marital status \n",
       "                                                       0 \n",
       "              chronic risk factor: asthma, diabetes, hbp \n",
       "                                                       0 \n",
       "                  2.5 hrs physical activity in past week \n",
       "                                                       0 \n",
       "       # of times drank sweet fruit drinks in past month \n",
       "                                                       0 \n",
       "                         # times ate fruit in past month \n",
       "                                                       0 \n",
       "                 # of times ate vegetables in past month \n",
       "                                                       0 \n",
       "                             tobacco use in past 30 days \n",
       "                                                       0 \n",
       "                                 # of cigarettes per day \n",
       "                                                      45 \n",
       "                # of days binge drinking in past 30 days \n",
       "                                                       0 \n",
       "                                                     bmi \n",
       "                                                       0 \n",
       "used heroin, methamphetamine or Rx drugs not as directed \n",
       "                                                       0 \n",
       "           serious psychological distress, kessler score \n",
       "                                                       3 \n",
       "                                       disability status \n",
       "                                                       0 \n",
       "                                      currently pregnant \n",
       "                                                       0 \n",
       "                                     covered by medicare \n",
       "                                                       0 \n",
       "                                     covered by medi-cal \n",
       "                                                       0 \n",
       "                                       currently insured \n",
       "                                                       0 \n",
       "              type of current health insurance, under 65 \n",
       "                                                       0 \n",
       "               type of current health insurance, over 65 \n",
       "                                                       0 \n",
       "             zipcode type: rural, urban, suburban, mixed \n",
       "                                                       0 \n",
       "                    # of times saw a doctor in past year \n",
       "                                                       0 \n",
       "         months covered by health insurance in past year \n",
       "                                                       0 \n",
       "                      poverty level as times of 100% fpl \n",
       "                                                       0 "
      ]
     },
     "metadata": {},
     "output_type": "display_data"
    },
    {
     "data": {
      "text/html": [
       "<style>\n",
       ".list-inline {list-style: none; margin:0; padding: 0}\n",
       ".list-inline>li {display: inline-block}\n",
       ".list-inline>li:not(:last-child)::after {content: \"\\00b7\"; padding: 0 .5ex}\n",
       "</style>\n",
       "<ol class=list-inline><li>3712</li><li>27</li></ol>\n"
      ],
      "text/latex": [
       "\\begin{enumerate*}\n",
       "\\item 3712\n",
       "\\item 27\n",
       "\\end{enumerate*}\n"
      ],
      "text/markdown": [
       "1. 3712\n",
       "2. 27\n",
       "\n",
       "\n"
      ],
      "text/plain": [
       "[1] 3712   27"
      ]
     },
     "metadata": {},
     "output_type": "display_data"
    }
   ],
   "source": [
    "df_renamed <- df %>%\n",
    "  select(\n",
    "    'age' = srage_p1,\n",
    "    'gender' = srsex,\n",
    "    'transgender' = transgend2,\n",
    "    'race/ethnicity' = ombsrr_p1,\n",
    "    'marital status' = marit2,\n",
    "    'chronic risk factor: asthma, diabetes, hbp' = risk2,\n",
    "    '2.5 hrs physical activity in past week' = ac212,\n",
    "    '# of times drank sweet fruit drinks in past month' = ac46v2,\n",
    "    '# times ate fruit in past month' = ae2v2,\n",
    "    '# of times ate vegetables in past month' = ae7v2,\n",
    "    'tobacco use in past 30 days' = tobcur,\n",
    "    '# of cigarettes per day' = numcig,\n",
    "    '# of days binge drinking in past 30 days' = ac211_p1,\n",
    "    'bmi' = whobmi,\n",
    "    'used heroin, methamphetamine or Rx drugs not as directed' = illidrugv2,\n",
    "    'serious psychological distress, kessler score' = distress,\n",
    "    'disability status' = disability,\n",
    "    'currently pregnant' = ad13v2,\n",
    "    'covered by medicare' = ai1,\n",
    "    'covered by medi-cal' = ai6,\n",
    "    'currently insured' = ins,\n",
    "    'type of current health insurance, under 65' = ins64,\n",
    "    'type of current health insurance, over 65' = ins65,\n",
    "    'zipcode type: rural, urban, suburban, mixed' = ur_clrt4,\n",
    "    '# of times saw a doctor in past year' = ah5,\n",
    "    'months covered by health insurance in past year' = ins12m,\n",
    "    'poverty level as times of 100% fpl' = povll2_p1v2\n",
    "  )\n",
    "\n",
    "df_filtered <- df_renamed[df_renamed$'# of times drank sweet fruit drinks in past month' >= 0, ]\n",
    "\n",
    "negative_counts <- sapply(df_filtered, function(column) sum(column < 0, na.rm = TRUE))\n",
    "View(negative_counts)\n",
    "dim(df_filtered)                "
   ]
  },
  {
   "cell_type": "code",
   "execution_count": 12,
   "id": "0446ece1-b453-4197-81f6-583890b1d973",
   "metadata": {},
   "outputs": [
    {
     "data": {
      "text/html": [
       "<style>\n",
       ".list-inline {list-style: none; margin:0; padding: 0}\n",
       ".list-inline>li {display: inline-block}\n",
       ".list-inline>li:not(:last-child)::after {content: \"\\00b7\"; padding: 0 .5ex}\n",
       "</style>\n",
       "<ol class=list-inline><li>2970</li><li>27</li></ol>\n"
      ],
      "text/latex": [
       "\\begin{enumerate*}\n",
       "\\item 2970\n",
       "\\item 27\n",
       "\\end{enumerate*}\n"
      ],
      "text/markdown": [
       "1. 2970\n",
       "2. 27\n",
       "\n",
       "\n"
      ],
      "text/plain": [
       "[1] 2970   27"
      ]
     },
     "metadata": {},
     "output_type": "display_data"
    },
    {
     "data": {
      "text/html": [
       "<style>\n",
       ".list-inline {list-style: none; margin:0; padding: 0}\n",
       ".list-inline>li {display: inline-block}\n",
       ".list-inline>li:not(:last-child)::after {content: \"\\00b7\"; padding: 0 .5ex}\n",
       "</style>\n",
       "<ol class=list-inline><li>742</li><li>27</li></ol>\n"
      ],
      "text/latex": [
       "\\begin{enumerate*}\n",
       "\\item 742\n",
       "\\item 27\n",
       "\\end{enumerate*}\n"
      ],
      "text/markdown": [
       "1. 742\n",
       "2. 27\n",
       "\n",
       "\n"
      ],
      "text/plain": [
       "[1] 742  27"
      ]
     },
     "metadata": {},
     "output_type": "display_data"
    }
   ],
   "source": [
    "# Shuffle the data frame\n",
    "set.seed(1)  # For reproducibility\n",
    "df_shuffled <- df_filtered[sample(nrow(df_filtered)), ]\n",
    "\n",
    "# Calculate the index for 80% split\n",
    "split_index <- round(0.8 * nrow(df_shuffled))\n",
    "\n",
    "# Split into 80% and 20%\n",
    "train_df <- df_shuffled[1:split_index, ]\n",
    "test_df <- df_shuffled[(split_index + 1):nrow(df_shuffled), ]\n",
    "\n",
    "# View the dimensions of the splits\n",
    "dim(train_df)  \n",
    "dim(test_df)\n",
    "\n",
    "write.csv(train_df, file = \"train.csv\", row.names = FALSE)\n",
    "write.csv(test_df, file = \"test.csv\", row.names = FALSE)"
   ]
  }
 ],
 "metadata": {
  "kernelspec": {
   "display_name": "R",
   "language": "R",
   "name": "ir"
  },
  "language_info": {
   "codemirror_mode": "r",
   "file_extension": ".r",
   "mimetype": "text/x-r-source",
   "name": "R",
   "pygments_lexer": "r",
   "version": "4.4.1"
  }
 },
 "nbformat": 4,
 "nbformat_minor": 5
}
