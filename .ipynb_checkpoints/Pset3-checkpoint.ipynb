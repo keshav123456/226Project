{
 "cells": [
  {
   "cell_type": "markdown",
   "id": "ac043642-15a1-4811-958d-71653753e831",
   "metadata": {},
   "source": [
    "1. The reasoning provided by ChatGPT in the answer appears valid, given all the assumptions it states - however it's important to acknowledge how large a role the assumptions have played in the answer. It takes a frequentist approach which assumes no prior information about the probability of the coin landing on heads or tails, it uses a normal distribution to model the sampling distribution (which generally assumes a large number of samples), and takes a relatively arbitrary confidence interval of 0.05 to then produce the percentage chance.  "
   ]
  },
  {
   "cell_type": "markdown",
   "id": "62bbd74a-c29e-4ef0-b132-e7d1f5f8dfe9",
   "metadata": {},
   "source": [
    "2. a) Take a sample of a 100 people - 0.98 are TP, 0.2 are FN, 97.02 are TN and 1.98 are FP. Therefore chances of a TP among positive results is $0.98/2.86$ or $33.1$%. The same result can be calculated via bayes theorem. \n",
    "\n",
    "   b) Given the larger sample collection of Carlos, the standard error of the mean is likely to be 10x smaller than Amelia, as the standard error is the standard deviation divided by the number of samples."
   ]
  },
  {
   "cell_type": "code",
   "execution_count": null,
   "id": "b648583a-adfa-4de8-af8f-44e348beb7e3",
   "metadata": {},
   "outputs": [],
   "source": []
  }
 ],
 "metadata": {
  "kernelspec": {
   "display_name": "R",
   "language": "R",
   "name": "ir"
  },
  "language_info": {
   "codemirror_mode": "r",
   "file_extension": ".r",
   "mimetype": "text/x-r-source",
   "name": "R",
   "pygments_lexer": "r",
   "version": "4.4.1"
  }
 },
 "nbformat": 4,
 "nbformat_minor": 5
}
